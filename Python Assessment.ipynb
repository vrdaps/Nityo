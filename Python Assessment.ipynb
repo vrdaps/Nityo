{
 "cells": [
  {
   "cell_type": "code",
   "execution_count": 88,
   "id": "63e6c8cf",
   "metadata": {},
   "outputs": [],
   "source": [
    "from pdfminer.high_level import extract_text\n",
    "import pandas as pd\n",
    "import numpy as np"
   ]
  },
  {
   "cell_type": "code",
   "execution_count": 89,
   "id": "d26d99d4",
   "metadata": {},
   "outputs": [
    {
     "name": "stdout",
     "output_type": "stream",
     "text": [
      "Done Converting pdf to txt\n",
      "Done Converting txt to csv\n"
     ]
    }
   ],
   "source": [
    "def pdf2text(pdf_file, txt_file, csv_file):\n",
    "    text  = extract_text(file, 'rb')\n",
    "    with open(txt_file,'w', encoding='utf-8') as f:\n",
    "        f.write(text)\n",
    "        print('Done Converting pdf to txt')\n",
    "    \n",
    "    df = pd.read_csv(txt_file, sep='\\n', header=None)\n",
    "    df.to_csv(csv_file,index =None, header = None)\n",
    "    print('Done Converting txt to csv')\n",
    "    \n",
    "pdf_file = 'keppel-corporation-limited-annual-report-2018.pdf'\n",
    "txt_file = 'Python Assessment.txt'\n",
    "csv_file = 'Python Assessment.csv'\n",
    "\n",
    "pdf2text(pdf_file, txt_file, csv_file)"
   ]
  }
 ],
 "metadata": {
  "kernelspec": {
   "display_name": "Python 3",
   "language": "python",
   "name": "python3"
  },
  "language_info": {
   "codemirror_mode": {
    "name": "ipython",
    "version": 3
   },
   "file_extension": ".py",
   "mimetype": "text/x-python",
   "name": "python",
   "nbconvert_exporter": "python",
   "pygments_lexer": "ipython3",
   "version": "3.8.8"
  }
 },
 "nbformat": 4,
 "nbformat_minor": 5
}
